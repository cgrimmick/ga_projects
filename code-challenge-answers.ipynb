{
 "cells": [
  {
   "cell_type": "markdown",
   "metadata": {},
   "source": [
    "<img src=\"http://imgur.com/1ZcRyrc.png\" style=\"float: left; margin: 20px; height: 55px\">\n",
    "\n",
    "# Project 1: Python Coding Exercises\n",
    "\n",
    "_Authors: Joseph Nelson (DC) _\n",
    "\n",
    "---"
   ]
  },
  {
   "cell_type": "markdown",
   "metadata": {},
   "source": [
    "The following code challenges are drawn from common exercises used in technical interviews.\n",
    "\n",
    "Please note that there may be several ways to approach each challenge. If you get stuck, try mapping out your approach in pseudocode first. Finally, while solutions to problems like these may be found online, remember that if you copy/paste code that you can't explain, you'll be missing out on the point of the project. The only way to truly learn a new skill is through practice, trial, and error - we can only help you improve by understanding where you are having trouble."
   ]
  },
  {
   "cell_type": "markdown",
   "metadata": {},
   "source": [
    "### Challenge 1: Largest Palindrome\n",
    "A palindromic number reads the same both ways. For example, 1234321 is a palindrome. The largest palindrome made from the product of two two-digit numbers is 9009 = 91 × 99. Find the largest palindrome made from the product of two three-digit numbers. Afterward, write a brief explanation walking through your code's logic in markdown."
   ]
  },
  {
   "cell_type": "code",
   "execution_count": 12,
   "metadata": {
    "collapsed": true
   },
   "outputs": [
    {
     "name": "stdout",
     "output_type": "stream",
     "text": [
      "Largest palindrome is 906609\n"
     ]
    }
   ],
   "source": [
    "pal_list = list([]) \n",
    "for num1 in range(100,1000):  # Search num1 for every 3-digit number descending order\n",
    "    for num2 in range(num1,1000): # num1 <= num2, otherwise already compared at another loop\n",
    "        prod = num1 * num2 \n",
    "        prod_str = str(prod)\n",
    "        if prod_str == prod_str[::-1]:  # If the string of the product is equal to its reverse, its a palindrome\n",
    "           pal_list.append(prod)\n",
    "    \n",
    "max_pal = max(pal_list)\n",
    "print(\"Largest palindrome is\", max_pal)"
   ]
  },
  {
   "cell_type": "markdown",
   "metadata": {},
   "source": [
    "We must check the product of each integer 99 < num1 < 1,000 and num2 <= num1. The top loop steps through each 3-digit integer  and the second multiplies each step of num1 by every positive integer less than or equal to num1. Each product is checked; if it is palindrome, store it in a list. Then find the max of the list of palindromes"
   ]
  },
  {
   "cell_type": "markdown",
   "metadata": {},
   "source": [
    "\n",
    "### Challenge 2: Summation of Primes\n",
    "The sum of the primes below 10 is 2 + 3 + 5 + 7 = 17. Find the sum of all the primes below 2,000. Afterward, write a brief explanation walking through your code's logic in markdown."
   ]
  },
  {
   "cell_type": "code",
   "execution_count": 10,
   "metadata": {
    "collapsed": true
   },
   "outputs": [
    {
     "name": "stdout",
     "output_type": "stream",
     "text": [
      "Sum of primes less than 2000 is 277050\n"
     ]
    }
   ],
   "source": [
    "def is_prime(x):\n",
    "    '''\n",
    "    Takes in a number x and checks whether any number from 2 to x-1 will evenly divide x. If\n",
    "    not it returns True for prime, otherwise returns False.\n",
    "    '''\n",
    "    if x == 1:\n",
    "        return False # 1 not defined as prime\n",
    "    if x == 2:\n",
    "        return True # Ad hoc solution to indexing problem for x=2 below\n",
    "    for fac in range(2,x): # \n",
    "        if x % fac == 0: # If we find a factor other than x, not a prime\n",
    "            return False\n",
    "        elif fac == x-1: # End of line? This number is prime!\n",
    "            return True \n",
    "        else:\n",
    "            pass\n",
    "\n",
    "primes = list( filter(is_prime, list(range(2000)))) # Filter out all nums not prime in 2 to 2000\n",
    "sum_of_primes = sum(primes)\n",
    "print(\"Sum of primes less than 2000 is\", sum_of_primes)"
   ]
  },
  {
   "cell_type": "markdown",
   "metadata": {},
   "source": [
    "First, I define a function to check a single number x for primacy. This function takes as and loops through integers from 2 x-1 to check for divisibility. If any integer less than x evenly divides x, it is not a prime.\n",
    "\n",
    "Then, I create a list of primes using the previously defined primacy check to filter a list of positive integers < 2000. This list is summed and the sum printed."
   ]
  },
  {
   "cell_type": "markdown",
   "metadata": {},
   "source": [
    "### Challenge 3: Multiples of 3 and 5\n",
    "If we list all of the natural numbers below 10 that are multiples of 3 or 5, we get 3, 5, 6, and 9. The sum of these multiples is 23. Find the sum of all the multiples of 3 and 5 below 1,000. Afterward, write a brief explanation walking through your code's logic in markdown."
   ]
  },
  {
   "cell_type": "code",
   "execution_count": 11,
   "metadata": {},
   "outputs": [
    {
     "name": "stdout",
     "output_type": "stream",
     "text": [
      "The sum of all multiples of 3 or 5 less than 1000 is  233168\n"
     ]
    }
   ],
   "source": [
    "mul_3 =  list(range(0,1000,3)) # Multiples of 3\n",
    "mul_5 =  list(range(0,1000,5)) # Multiples of 5\n",
    "mul_5_no_3 = list(filter(lambda x : x % 3 != 0, mul_5)) # Get rid of double counted multiples of 3\n",
    "total = sum(mul_3) + sum(mul_5_no_3)\n",
    "print(\"The sum of all multiples of 3 or 5 less than 1000 is \",total)   "
   ]
  },
  {
   "cell_type": "markdown",
   "metadata": {},
   "source": [
    "• Create lists of multiples of 3 or 5 under 1000\n",
    "• Delete elements from one of the lists (choice is arbitrary) that is included in the other so they are not double counted\n",
    "• Sum each lists and add them for the total"
   ]
  },
  {
   "cell_type": "markdown",
   "metadata": {},
   "source": [
    "### Challenge 4: String Compressor\n",
    "Implement a method to perform basic string compression using the counts of repeated characters. (This is called run-length encoding.) For example, the string \"aabcccccaaa\" would become a2b1c5a3. If the “compressed” string would not become smaller than the original string, your method should return the original string. You can assume the string has only uppercase and lowercase letters (a–z). Specify whether your solution is case sensitive or case insensitive and what you would need to change to make it the other. Afterward, write a brief explanation walking through your code's logic in markdown."
   ]
  },
  {
   "cell_type": "code",
   "execution_count": 7,
   "metadata": {
    "collapsed": true
   },
   "outputs": [
    {
     "name": "stdout",
     "output_type": "stream",
     "text": [
      "No repeated characters\n",
      "abcd\n"
     ]
    }
   ],
   "source": [
    "def comp_str(string_long):\n",
    "    \n",
    "    '''\n",
    "    Takes a string and returns a compressed version with a character followed by the number of times it appears more than once in a row.\n",
    "    E.g. comp_str('aaabcc') returns 'a3bc2'.\n",
    "    Case sensitive, so comp_str('aaaAAbcc') returns 'a3A2bc2'\n",
    "    '''\n",
    "    \n",
    "    string_comp = ''\n",
    "    i = 0\n",
    "    count = 1\n",
    "    flag = 0\n",
    "    run = 0\n",
    "    while flag == 0:\n",
    "        \n",
    "        if i + 1 == len(string_long): # Finished with the long string?\n",
    "            string_comp = string_comp + str(string_long[i]) + str(count) # Wrap up compressed string\n",
    "            break\n",
    "        \n",
    "        if string_long[i] == string_long[i+1]: # Is next character same as current?\n",
    "            count += 1 # Count it\n",
    "            i += 1 # Step through\n",
    "            run = 1 # Indicate there's at least one run of characters\n",
    "        elif count > 1:   # If we were counting but next character is different \n",
    "            string_comp = string_comp + str(string_long[i]) + str(count) # Stopped counting, put it in compressed string\n",
    "            count = 1 # Reset count for next character to be counted\n",
    "            i += 1\n",
    "        else:\n",
    "            string_comp = string_comp + string_long[i] + str(count) # No run, leave character as is and add it to compressed\n",
    "            count = 1 \n",
    "            i +=1\n",
    "    \n",
    "    if run == 0:  # If there is no run return the original string\n",
    "        print(\"No repeated characters\")\n",
    "        return(string_long)\n",
    "    else:\n",
    "        return string_comp\n",
    "\n",
    "print(comp_str(\"abcd\"))\n"
   ]
  },
  {
   "cell_type": "markdown",
   "metadata": {},
   "source": [
    "Function that loops through a string and checks if there is a run of each character (character is repeated in a row) and counts the number of times it's repeated in that row. \n",
    "It returns a compressed version of the string with the character and how many times its repeated.\n",
    "\n",
    "This is CASE SENSITIVE, so A and a will be counted as DIFFERENT characters."
   ]
  },
  {
   "cell_type": "markdown",
   "metadata": {},
   "source": [
    "### *BONUS* Challenge: FizzBuzz\n",
    "Write a program that prints all of the numbers from 1 to 100. For multiples of 3, instead of the number, print \"Fizz;\" for multiples of 5, print \"Buzz.\" For numbers that are multiples of both 3 and 5, print \"FizzBuzz.\" Afterward, write a brief explanation walking through your code's logic in markdown."
   ]
  },
  {
   "cell_type": "code",
   "execution_count": 8,
   "metadata": {
    "collapsed": true
   },
   "outputs": [
    {
     "name": "stdout",
     "output_type": "stream",
     "text": [
      "1 \n",
      "2 \n",
      "3 Fizz\n",
      "4 \n",
      "5 Buzz\n",
      "6 Fizz\n",
      "7 \n",
      "8 \n",
      "9 Fizz\n",
      "10 Buzz\n",
      "11 \n",
      "12 Fizz\n",
      "13 \n",
      "14 \n",
      "15 FizzBuzz\n",
      "16 \n",
      "17 \n",
      "18 Fizz\n",
      "19 \n",
      "20 Buzz\n",
      "21 Fizz\n",
      "22 \n",
      "23 \n",
      "24 Fizz\n",
      "25 Buzz\n",
      "26 \n",
      "27 Fizz\n",
      "28 \n",
      "29 \n",
      "30 FizzBuzz\n",
      "31 \n",
      "32 \n",
      "33 Fizz\n",
      "34 \n",
      "35 Buzz\n",
      "36 Fizz\n",
      "37 \n",
      "38 \n",
      "39 Fizz\n",
      "40 Buzz\n",
      "41 \n",
      "42 Fizz\n",
      "43 \n",
      "44 \n",
      "45 FizzBuzz\n",
      "46 \n",
      "47 \n",
      "48 Fizz\n",
      "49 \n",
      "50 Buzz\n",
      "51 Fizz\n",
      "52 \n",
      "53 \n",
      "54 Fizz\n",
      "55 Buzz\n",
      "56 \n",
      "57 Fizz\n",
      "58 \n",
      "59 \n",
      "60 FizzBuzz\n",
      "61 \n",
      "62 \n",
      "63 Fizz\n",
      "64 \n",
      "65 Buzz\n",
      "66 Fizz\n",
      "67 \n",
      "68 \n",
      "69 Fizz\n",
      "70 Buzz\n",
      "71 \n",
      "72 Fizz\n",
      "73 \n",
      "74 \n",
      "75 FizzBuzz\n",
      "76 \n",
      "77 \n",
      "78 Fizz\n",
      "79 \n",
      "80 Buzz\n",
      "81 Fizz\n",
      "82 \n",
      "83 \n",
      "84 Fizz\n",
      "85 Buzz\n",
      "86 \n",
      "87 Fizz\n",
      "88 \n",
      "89 \n",
      "90 FizzBuzz\n",
      "91 \n",
      "92 \n",
      "93 Fizz\n",
      "94 \n",
      "95 Buzz\n",
      "96 Fizz\n",
      "97 \n",
      "98 \n",
      "99 Fizz\n",
      "100 Buzz\n"
     ]
    }
   ],
   "source": [
    "for i in range(1,101):\n",
    "    msg = str(i) + \" \" # Add the current integer to our message\n",
    "    if i % 3 == 0: # If it's a multiple of 3, add \"Fizz\" to our message\n",
    "        msg += \"Fizz\"\n",
    "    if i % 5 == 0: # If it's a multiple of 5, add \"Buzz\" to our message\n",
    "        msg += \"Buzz\" \n",
    "    print(msg) # Print our full message for this integer"
   ]
  },
  {
   "cell_type": "code",
   "execution_count": null,
   "metadata": {},
   "outputs": [],
   "source": []
  }
 ],
 "metadata": {
  "anaconda-cloud": {},
  "kernelspec": {
   "display_name": "Python 3",
   "language": "python",
   "name": "python3"
  },
  "language_info": {
   "codemirror_mode": {
    "name": "ipython",
    "version": 3
   },
   "file_extension": ".py",
   "mimetype": "text/x-python",
   "name": "python",
   "nbconvert_exporter": "python",
   "pygments_lexer": "ipython3",
   "version": "3.6.5"
  }
 },
 "nbformat": 4,
 "nbformat_minor": 2
}
